{
 "cells": [
  {
   "cell_type": "markdown",
   "metadata": {
    "slideshow": {
     "slide_type": "slide"
    }
   },
   "source": [
    "## Course URL: http://www.limandrew.org/ie5600\n",
    "\n",
    "<a href=\"https://www.limandrew.org/ie5600/\" target=\"_blank\"><img src=\"http://alim.algorithmexchange.com/website/images/ie5600-thumb.jpg\" width=\"1000\" alt=\"\"></a>"
   ]
  },
  {
   "cell_type": "markdown",
   "metadata": {
    "slideshow": {
     "slide_type": "slide"
    }
   },
   "source": [
    "## Week 0 PPT: http://www.limandrew.org/week0\n",
    "\n",
    "<a href=\"https://www.limandrew.org/week0/\" target=\"_blank\"><img src=\"http://alim.algorithmexchange.com/website/images/week0-thumb.jpg\" width=\"1000\" alt=\"\"></a>"
   ]
  },
  {
   "cell_type": "markdown",
   "metadata": {
    "slideshow": {
     "slide_type": "slide"
    }
   },
   "source": [
    "## Online Judge: http://ie5600.limandrew.org\n",
    "\n",
    "<a href=\"https://ie5600.limandrew.org/\" target=\"_blank\"><img src=\"http://alim.algorithmexchange.com/website/images/online-judge-thumb.jpg\" width=\"1000\" alt=\"\"></a>"
   ]
  },
  {
   "cell_type": "markdown",
   "metadata": {
    "slideshow": {
     "slide_type": "slide"
    }
   },
   "source": [
    "## Python Animation with Brief History\n",
    "\n",
    "<a href=\"https://www.youtube.com/watch?v=JXGHBDpmbg4\" target=\"_blank\"><img src=\"http://alim.algorithmexchange.com/website/images/python-history-thumb.jpg\" width=\"1000\" alt=\"\"></a>"
   ]
  },
  {
   "cell_type": "code",
   "execution_count": null,
   "metadata": {},
   "outputs": [],
   "source": []
  }
 ],
 "metadata": {
  "celltoolbar": "Slideshow",
  "kernelspec": {
   "display_name": "Python 3",
   "language": "python",
   "name": "python3"
  },
  "language_info": {
   "codemirror_mode": {
    "name": "ipython",
    "version": 3
   },
   "file_extension": ".py",
   "mimetype": "text/x-python",
   "name": "python",
   "nbconvert_exporter": "python",
   "pygments_lexer": "ipython3",
   "version": "3.7.4"
  }
 },
 "nbformat": 4,
 "nbformat_minor": 2
}
