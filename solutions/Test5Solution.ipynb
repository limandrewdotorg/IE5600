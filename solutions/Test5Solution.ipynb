{
 "cells": [
  {
   "cell_type": "markdown",
   "metadata": {},
   "source": [
    "## Location of Captical\n",
    "Enumerate the choice of captical. Use the solution for the homework problem as a subroutine, compute the maximum distance corresponds to each choice of the captical. \n",
    "\n",
    "The rest is to compute the minimum and output the choice that have minimum answer.\n"
   ]
  },
  {
   "cell_type": "code",
   "execution_count": null,
   "metadata": {},
   "outputs": [],
   "source": [
    "T = int(input())\n",
    "for _ in range(T):\n",
    "    n = int(input())\n",
    "    e = [[] for i in range(n+1)]\n",
    "\n",
    "    def dfs(u, fa):\n",
    "        res = 0\n",
    "        for i in e[u]:\n",
    "            v, w = i\n",
    "            if v == fa:\n",
    "                continue\n",
    "            res = max(res, dfs(v, u) + w)\n",
    "        return res\n",
    "\n",
    "    for i in range(1, n):\n",
    "        u, v, w = map(int, input().split())\n",
    "        e[u].append((v, w))\n",
    "        e[v].append((u, w))\n",
    "    ans = 1e20\n",
    "    s = []\n",
    "    for i in range(1, n + 1):\n",
    "        cur = dfs(i, -1)\n",
    "        # print(i,cur)\n",
    "        if ans == cur:\n",
    "            s.append(i)\n",
    "        elif ans > cur:\n",
    "            ans = cur\n",
    "            s = [i]\n",
    "    print(ans, *s)"
   ]
  },
  {
   "cell_type": "markdown",
   "metadata": {},
   "source": [
    "## Random Walk 1\n",
    "\n",
    "Basic DP Problem"
   ]
  },
  {
   "cell_type": "code",
   "execution_count": null,
   "metadata": {},
   "outputs": [],
   "source": [
    "# test\n",
    "# Dp easy\n",
    "# random walk\n",
    "\n",
    "t = int(input())\n",
    "for _ in range(t):\n",
    "    tt = list(map(int, input().split()))\n",
    "    x = tt[0]\n",
    "    y = tt[1]\n",
    "    \n",
    "    dp = [[0 for i in range(x)] for j in range(y)]\n",
    "    \n",
    "    dp[0][0] = 1\n",
    "    \n",
    "    for i in range(1, y):\n",
    "        dp[i][0] = dp[i-1][0] * 0.5\n",
    "    \n",
    "    for i in range(1, x):\n",
    "        dp[0][i] = dp[0][i-1] * 0.5\n",
    "        \n",
    "    for i in range(1, y):\n",
    "        for j in range(1, x):\n",
    "            dp[i][j] = dp[i-1][j] * 0.5 + dp[i][j-1] * 0.5\n",
    "    \n",
    "    print(dp[y-1][x-1])"
   ]
  },
  {
   "cell_type": "markdown",
   "metadata": {},
   "source": [
    "## Random Walk 2\n",
    "DP Problem. Just donnot update from $(x_1,y_1)$ and $(x_2,y_2)$\n"
   ]
  },
  {
   "cell_type": "code",
   "execution_count": null,
   "metadata": {},
   "outputs": [],
   "source": [
    "t = int(input())\n",
    "for _ in range(t):\n",
    "    n,m,x1,y1,x2,y2 = list(map(int,input().split()))\n",
    "    dp = [[-1]*(m+2) for _ in range(n+2)]\n",
    "    dp[1][1] = 1\n",
    "    dp[x1][y1] = dp[x2][y2] = 0\n",
    "    # for i in range(2,n+1): dp[i][1] = dp[i-1][1]/2\n",
    "    # for i in range(2,m+1): dp[1][i] = dp[1][i-1]/2\n",
    "    def solve(x,y):\n",
    "        if dp[x][y]>=-0.1: return dp[x][y]\n",
    "        if y==1: \n",
    "            dp[x][y] = solve(x-1,y)/2\n",
    "            return dp[x][y]\n",
    "        if x==1:\n",
    "             dp[x][y] = solve(x,y-1)/2\n",
    "             return dp[x][y]\n",
    "\n",
    "        t1 = 1 if x==n else 0.5\n",
    "        t2 = 1 if y==m else 0.5\n",
    "        dp[x][y] = solve(x-1,y)*t2 + solve(x,y-1)*t1\n",
    "        return dp[x][y]\n",
    "    print(solve(n,m))"
   ]
  },
  {
   "cell_type": "markdown",
   "metadata": {},
   "source": [
    "## NQueens and bad board\n",
    "The backtracking steps are same, except that if a queens is placed on a bad entry, return false."
   ]
  },
  {
   "cell_type": "code",
   "execution_count": null,
   "metadata": {},
   "outputs": [],
   "source": [
    "\n",
    "def Place(r,c):\n",
    "    for i in range(1,r):\n",
    "        if row[i]==c or abs(row[i]-c)==abs(i-r):\n",
    "            return False\n",
    "    if (r,c) in bad:\n",
    "        return False\n",
    "    return True\n",
    "\n",
    "def NQueens(k,n):\n",
    "    global row,tot\n",
    "    if k==1: row = [-1]*(n+1)\n",
    "    for i in range(1,n+1):\n",
    "        if Place(k,i):\n",
    "            row[k] = i\n",
    "            if k==n:\n",
    "                tot += 1\n",
    "            else:\n",
    "                NQueens(k+1,n)\n",
    "\n",
    "\n",
    "t = int(input())\n",
    "\n",
    "for _ in range(t):\n",
    "    n = int(input())\n",
    "    data = []\n",
    "    for _ in range(n):\n",
    "        l = list(map(int,input().split()))\n",
    "        data.append(l)\n",
    "    bad = set()\n",
    "    row = []\n",
    "    tot = 0\n",
    "    for i in range(n):\n",
    "        for j in range(n):\n",
    "            if data[i][j]==1:\n",
    "                bad.add((i+1,j+1))\n",
    "    \n",
    "    NQueens(1,n)\n",
    "    print(tot)"
   ]
  }
 ],
 "metadata": {
  "kernelspec": {
   "display_name": "Python 3",
   "language": "python",
   "name": "python3"
  },
  "language_info": {
   "codemirror_mode": {
    "name": "ipython",
    "version": 3
   },
   "file_extension": ".py",
   "mimetype": "text/x-python",
   "name": "python",
   "nbconvert_exporter": "python",
   "pygments_lexer": "ipython3",
   "version": "3.8.3"
  }
 },
 "nbformat": 4,
 "nbformat_minor": 4
}
